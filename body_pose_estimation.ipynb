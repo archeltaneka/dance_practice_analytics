{
 "cells": [
  {
   "cell_type": "code",
   "execution_count": 1,
   "metadata": {},
   "outputs": [],
   "source": [
    "import numpy as np\n",
    "import cv2\n",
    "\n",
    "import matplotlib.pyplot as plt\n",
    "\n",
    "%matplotlib inline"
   ]
  },
  {
   "cell_type": "code",
   "execution_count": 2,
   "metadata": {},
   "outputs": [],
   "source": [
    "def extract_video_first_frame(path, use_cv2=True):\n",
    "    \n",
    "    cap = cv2.VideoCapture(path)\n",
    "    \n",
    "    ret, frame = cap.read()\n",
    "    \n",
    "    if use_cv2:\n",
    "        cv2.imshow('First Frame', frame)\n",
    "\n",
    "        cv2.waitKey(0)\n",
    "        cv2.destroyAllWindows()\n",
    "        \n",
    "    else:\n",
    "        new_frame = cv2.cvtColor(frame, cv2.COLOR_BGR2RGB)\n",
    "        plt.imshow(new_frame)\n",
    "        plt.axis('off')\n",
    "        \n",
    "    return frame"
   ]
  },
  {
   "cell_type": "code",
   "execution_count": 3,
   "metadata": {},
   "outputs": [],
   "source": [
    "# PATH = './data/videos/rcpc_bimbambum.mp4'\n",
    "# img = extract_video_first_frame(PATH)\n",
    "# img_h, img_w, _ = img.shape"
   ]
  },
  {
   "cell_type": "code",
   "execution_count": 80,
   "metadata": {},
   "outputs": [],
   "source": [
    "proto_file = './openpose/openpose-master/models/pose/coco/pose_deploy_linevec.prototxt'\n",
    "weight_file = './openpose/openpose-master/models/pose/coco/pose_iter_440000.caffemodel'\n",
    "\n",
    "img = cv2.imread('./data/basketball_2.jpg')\n",
    "img_copy = img.copy()"
   ]
  },
  {
   "cell_type": "code",
   "execution_count": 81,
   "metadata": {},
   "outputs": [],
   "source": [
    "frame_width, frame_height = img.shape[1], img.shape[0]\n",
    "in_width, in_height = 368, 368\n",
    "\n",
    "pose_net = cv2.dnn.readNetFromCaffe(proto_file, weight_file)\n",
    "pose_blob = cv2.dnn.blobFromImage(img, scalefactor=1.0/255, size=(in_width, in_height), mean=(0,0,0), swapRB=False, crop=False)\n",
    "pose_net.setInput(pose_blob)\n",
    "output = pose_net.forward()"
   ]
  },
  {
   "cell_type": "code",
   "execution_count": 82,
   "metadata": {},
   "outputs": [
    {
     "data": {
      "text/plain": [
       "1"
      ]
     },
     "execution_count": 82,
     "metadata": {},
     "output_type": "execute_result"
    }
   ],
   "source": [
    "len(output)"
   ]
  },
  {
   "cell_type": "code",
   "execution_count": null,
   "metadata": {},
   "outputs": [],
   "source": [
    "h, w = output.shape[2], output.shape[3]\n",
    "threshold = 0.1\n",
    "n_points = 10\n",
    "\n",
    "body_points = []\n",
    "for i in range(n_points):\n",
    "    probs = output[0,i,:,:]\n",
    "    min_val, prob, min_loc, point = cv2.minMaxLoc(probs)\n",
    "    \n",
    "    if prob > threshold:\n",
    "        \n",
    "        x = (frame_width * point[0]) / w\n",
    "        y = (frame_height * point[1]) / h\n",
    "        \n",
    "        cv2.circle(img_copy, (int(x), int(y)), 15, (0, 255, 255), thickness=-1, lineType=cv2.FILLED)\n",
    "        cv2.putText(img_copy, \"{}\".format(i), (int(x), int(y)), cv2.FONT_HERSHEY_SIMPLEX, 1.4, (0, 0, 255), 3, lineType=cv2.LINE_AA)\n",
    "        \n",
    "        body_points.append((int(x), int(y)))\n",
    "        \n",
    "    else:\n",
    "        body_points.append(None)\n",
    "        \n",
    "cv2.imshow('Body Points', img_copy)    \n",
    "cv2.waitKey(0)\n",
    "cv2.destroyAllWindows()"
   ]
  },
  {
   "cell_type": "code",
   "execution_count": 65,
   "metadata": {},
   "outputs": [
    {
     "data": {
      "text/plain": [
       "[(406, 123),\n",
       " (391, 149),\n",
       " (360, 158),\n",
       " (313, 211),\n",
       " (360, 237),\n",
       " (422, 149),\n",
       " (422, 184),\n",
       " (485, 211),\n",
       " (375, 246),\n",
       " (203, 299),\n",
       " (469, 369),\n",
       " (438, 246),\n",
       " (328, 255),\n",
       " (328, 369),\n",
       " (391, 114)]"
      ]
     },
     "execution_count": 65,
     "metadata": {},
     "output_type": "execute_result"
    }
   ],
   "source": [
    "body_points"
   ]
  },
  {
   "cell_type": "code",
   "execution_count": null,
   "metadata": {},
   "outputs": [],
   "source": []
  }
 ],
 "metadata": {
  "kernelspec": {
   "display_name": "Python 3",
   "language": "python",
   "name": "python3"
  },
  "language_info": {
   "codemirror_mode": {
    "name": "ipython",
    "version": 3
   },
   "file_extension": ".py",
   "mimetype": "text/x-python",
   "name": "python",
   "nbconvert_exporter": "python",
   "pygments_lexer": "ipython3",
   "version": "3.8.5"
  }
 },
 "nbformat": 4,
 "nbformat_minor": 4
}
