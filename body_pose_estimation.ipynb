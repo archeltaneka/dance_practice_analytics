{
 "cells": [
  {
   "cell_type": "code",
   "execution_count": 1,
   "metadata": {},
   "outputs": [],
   "source": [
    "import numpy as np\n",
    "import cv2\n",
    "\n",
    "import matplotlib.pyplot as plt\n",
    "\n",
    "%matplotlib inline"
   ]
  },
  {
   "cell_type": "code",
   "execution_count": 2,
   "metadata": {},
   "outputs": [],
   "source": [
    "def extract_video_first_frame(path, use_cv2=True):\n",
    "    \n",
    "    cap = cv2.VideoCapture(path)\n",
    "    \n",
    "    ret, frame = cap.read()\n",
    "    \n",
    "    if use_cv2:\n",
    "        cv2.imshow('First Frame', frame)\n",
    "\n",
    "        cv2.waitKey(0)\n",
    "        cv2.destroyAllWindows()\n",
    "        \n",
    "    else:\n",
    "        new_frame = cv2.cvtColor(frame, cv2.COLOR_BGR2RGB)\n",
    "        plt.imshow(new_frame)\n",
    "        plt.axis('off')\n",
    "        \n",
    "    return frame"
   ]
  },
  {
   "cell_type": "code",
   "execution_count": 3,
   "metadata": {},
   "outputs": [],
   "source": [
    "# PATH = './data/videos/rcpc_bimbambum.mp4'\n",
    "# img = extract_video_first_frame(PATH)\n",
    "# img_h, img_w, _ = img.shape"
   ]
  },
  {
   "cell_type": "code",
   "execution_count": 4,
   "metadata": {},
   "outputs": [],
   "source": [
    "proto_file = './openpose/openpose-master/models/pose/mpi/pose_deploy_linevec_faster_4_stages.prototxt'\n",
    "weight_file = './openpose/openpose-master/models/pose/mpi/pose_iter_160000.caffemodel'\n",
    "\n",
    "img = cv2.imread('./data/basketball.jpg')\n",
    "pose_net = cv2.dnn.readNetFromCaffe(proto_file, weight_file)"
   ]
  },
  {
   "cell_type": "code",
   "execution_count": 9,
   "metadata": {},
   "outputs": [],
   "source": [
    "in_weight, in_height = 368, 368\n",
    "\n",
    "pose_blob = cv2.dnn.blobFromImage(img, scalefactor=1.0/255, size=(in, 224), mean=(0,0,0), swapRB=False, crop=False)\n",
    "pose_net.setInput(pose_blob)"
   ]
  },
  {
   "cell_type": "code",
   "execution_count": 10,
   "metadata": {},
   "outputs": [],
   "source": [
    "output = pose_net.forward()"
   ]
  },
  {
   "cell_type": "code",
   "execution_count": 11,
   "metadata": {},
   "outputs": [
    {
     "data": {
      "text/plain": [
       "1"
      ]
     },
     "execution_count": 11,
     "metadata": {},
     "output_type": "execute_result"
    }
   ],
   "source": [
    "len(output)"
   ]
  },
  {
   "cell_type": "code",
   "execution_count": 12,
   "metadata": {},
   "outputs": [],
   "source": [
    "new_h, new_w = output.shape[2], output.shape[3]\n",
    "threshold = 0.5\n",
    "\n",
    "body_points = []\n",
    "for i in range(len(output)):\n",
    "    probs = output[0,i,:,:]\n",
    "    min_val, prob, min_loc, point = cv2.minMaxLoc(probs)\n",
    "    \n",
    "    if prob > threshold:\n",
    "        cv2.circle(img, (int(new_w), int(new_h)), 15, (0, 255, 255), thickness=-1, lineType=cv2.FILLED)\n",
    "        cv2.putText(img, \"{}\".format(i), (int(new_w), int(new_h)), cv2.FONT_HERSHEY_SIMPLEX, 1.4, (0, 0, 255), 3, lineType=cv2.LINE_AA)\n",
    "        \n",
    "        body_points.append((int(new_w), int(new_h)))\n",
    "    else:\n",
    "        body_points.append(None)\n",
    "        \n",
    "cv2.imshow('Body Points', img)\n",
    "cv2.waitKey(0)\n",
    "cv2.destroyAllWindows()"
   ]
  },
  {
   "cell_type": "code",
   "execution_count": 50,
   "metadata": {},
   "outputs": [
    {
     "data": {
      "text/plain": [
       "[None]"
      ]
     },
     "execution_count": 50,
     "metadata": {},
     "output_type": "execute_result"
    }
   ],
   "source": [
    "body_points"
   ]
  },
  {
   "cell_type": "code",
   "execution_count": null,
   "metadata": {},
   "outputs": [],
   "source": []
  }
 ],
 "metadata": {
  "kernelspec": {
   "display_name": "Python 3",
   "language": "python",
   "name": "python3"
  },
  "language_info": {
   "codemirror_mode": {
    "name": "ipython",
    "version": 3
   },
   "file_extension": ".py",
   "mimetype": "text/x-python",
   "name": "python",
   "nbconvert_exporter": "python",
   "pygments_lexer": "ipython3",
   "version": "3.8.5"
  }
 },
 "nbformat": 4,
 "nbformat_minor": 4
}
